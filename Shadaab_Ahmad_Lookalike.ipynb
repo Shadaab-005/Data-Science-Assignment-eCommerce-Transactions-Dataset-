{
  "nbformat": 4,
  "nbformat_minor": 0,
  "metadata": {
    "colab": {
      "provenance": []
    },
    "kernelspec": {
      "name": "python3",
      "display_name": "Python 3"
    },
    "language_info": {
      "name": "python"
    }
  },
  "cells": [
    {
      "cell_type": "code",
      "execution_count": 1,
      "metadata": {
        "colab": {
          "base_uri": "https://localhost:8080/"
        },
        "id": "dE4khwna_A-T",
        "outputId": "b329c7da-579f-46fe-8b5f-374f3a0c209d"
      },
      "outputs": [
        {
          "output_type": "stream",
          "name": "stdout",
          "text": [
            "Customers DataFrame:\n",
            "  CustomerID        CustomerName         Region  SignupDate\n",
            "0      C0001    Lawrence Carroll  South America  2022-07-10\n",
            "1      C0002      Elizabeth Lutz           Asia  2022-02-13\n",
            "2      C0003      Michael Rivera  South America  2024-03-07\n",
            "3      C0004  Kathleen Rodriguez  South America  2022-10-09\n",
            "4      C0005         Laura Weber           Asia  2022-08-15\n",
            "<class 'pandas.core.frame.DataFrame'>\n",
            "RangeIndex: 200 entries, 0 to 199\n",
            "Data columns (total 4 columns):\n",
            " #   Column        Non-Null Count  Dtype \n",
            "---  ------        --------------  ----- \n",
            " 0   CustomerID    200 non-null    object\n",
            " 1   CustomerName  200 non-null    object\n",
            " 2   Region        200 non-null    object\n",
            " 3   SignupDate    200 non-null    object\n",
            "dtypes: object(4)\n",
            "memory usage: 6.4+ KB\n",
            "None\n",
            "\n",
            "Products DataFrame:\n",
            "  ProductID              ProductName     Category   Price\n",
            "0      P001     ActiveWear Biography        Books  169.30\n",
            "1      P002    ActiveWear Smartwatch  Electronics  346.30\n",
            "2      P003  ComfortLiving Biography        Books   44.12\n",
            "3      P004            BookWorld Rug   Home Decor   95.69\n",
            "4      P005          TechPro T-Shirt     Clothing  429.31\n",
            "<class 'pandas.core.frame.DataFrame'>\n",
            "RangeIndex: 100 entries, 0 to 99\n",
            "Data columns (total 4 columns):\n",
            " #   Column       Non-Null Count  Dtype  \n",
            "---  ------       --------------  -----  \n",
            " 0   ProductID    100 non-null    object \n",
            " 1   ProductName  100 non-null    object \n",
            " 2   Category     100 non-null    object \n",
            " 3   Price        100 non-null    float64\n",
            "dtypes: float64(1), object(3)\n",
            "memory usage: 3.3+ KB\n",
            "None\n",
            "\n",
            "Transactions DataFrame:\n",
            "  TransactionID CustomerID ProductID      TransactionDate  Quantity  \\\n",
            "0        T00001      C0199      P067  2024-08-25 12:38:23         1   \n",
            "1        T00112      C0146      P067  2024-05-27 22:23:54         1   \n",
            "2        T00166      C0127      P067  2024-04-25 07:38:55         1   \n",
            "3        T00272      C0087      P067  2024-03-26 22:55:37         2   \n",
            "4        T00363      C0070      P067  2024-03-21 15:10:10         3   \n",
            "\n",
            "   TotalValue   Price  \n",
            "0      300.68  300.68  \n",
            "1      300.68  300.68  \n",
            "2      300.68  300.68  \n",
            "3      601.36  300.68  \n",
            "4      902.04  300.68  \n",
            "<class 'pandas.core.frame.DataFrame'>\n",
            "RangeIndex: 1000 entries, 0 to 999\n",
            "Data columns (total 7 columns):\n",
            " #   Column           Non-Null Count  Dtype  \n",
            "---  ------           --------------  -----  \n",
            " 0   TransactionID    1000 non-null   object \n",
            " 1   CustomerID       1000 non-null   object \n",
            " 2   ProductID        1000 non-null   object \n",
            " 3   TransactionDate  1000 non-null   object \n",
            " 4   Quantity         1000 non-null   int64  \n",
            " 5   TotalValue       1000 non-null   float64\n",
            " 6   Price            1000 non-null   float64\n",
            "dtypes: float64(2), int64(1), object(4)\n",
            "memory usage: 54.8+ KB\n",
            "None\n"
          ]
        }
      ],
      "source": [
        "import pandas as pd\n",
        "import numpy as np\n",
        "import matplotlib.pyplot as plt\n",
        "import seaborn as sns\n",
        "from sklearn.cluster import KMeans\n",
        "from sklearn.metrics import davies_bouldin_score\n",
        "from sklearn.preprocessing import StandardScaler\n",
        "from sklearn.metrics.pairwise import cosine_similarity\n",
        "from sklearn.decomposition import PCA\n",
        "\n",
        "# Suppressing warnings\n",
        "import warnings\n",
        "warnings.filterwarnings(\"ignore\")\n",
        "\n",
        "# Loading the datasets\n",
        "customers_df = pd.read_csv(\"/content/Customers.csv\")\n",
        "products_df = pd.read_csv(\"/content/Products.csv\")\n",
        "transactions_df = pd.read_csv(\"/content/Transactions.csv\")\n",
        "\n",
        "# Displaying head and info to inspect the datasets\n",
        "print(\"Customers DataFrame:\")\n",
        "print(customers_df.head())\n",
        "print(customers_df.info())\n",
        "\n",
        "print(\"\\nProducts DataFrame:\")\n",
        "print(products_df.head())\n",
        "print(products_df.info())\n",
        "\n",
        "print(\"\\nTransactions DataFrame:\")\n",
        "print(transactions_df.head())\n",
        "print(transactions_df.info())"
      ]
    },
    {
      "cell_type": "code",
      "source": [
        "# Converting date columns to datetime objects\n",
        "customers_df['SignupDate'] = pd.to_datetime(customers_df['SignupDate'])\n",
        "transactions_df['TransactionDate'] = pd.to_datetime(transactions_df['TransactionDate'])\n",
        "\n",
        "#Feature Engineering steps\n",
        "transactions_merged_df = pd.merge(transactions_df, products_df, on = \"ProductID\")\n",
        "transactions_merged_df = pd.merge(transactions_merged_df, customers_df, on = \"CustomerID\")\n",
        "\n",
        "customer_features = transactions_merged_df.groupby('CustomerID').agg(\n",
        "    num_transactions=('TransactionID', 'count'),\n",
        "    total_spending=('TotalValue', 'sum'),\n",
        "    purchase_frequency = ('TransactionDate', lambda x: len(x) / (x.max() - x.min()).days if (x.max() - x.min()).days > 0 else 0),\n",
        "    avg_transaction_value=('TotalValue', 'mean'),\n",
        "    fav_product_category =('Category', lambda x: x.value_counts().index[0])\n",
        ").reset_index()\n",
        "\n",
        "\n",
        "customer_region_df = transactions_merged_df.groupby('CustomerID')['Region'].apply(lambda x: x.mode()[0]).reset_index()\n",
        "customer_features = pd.merge(customer_features,customer_region_df, on=\"CustomerID\")\n",
        "customer_features = pd.get_dummies(customer_features, columns = ['fav_product_category', 'Region'])\n",
        "\n",
        "customer_features_scaled = StandardScaler().fit_transform(customer_features.drop('CustomerID', axis = 1))\n",
        "customer_features_scaled_df = pd.DataFrame(customer_features_scaled, columns=customer_features.drop('CustomerID', axis = 1).columns)\n",
        "\n",
        "\n"
      ],
      "metadata": {
        "id": "8FTXunMYA5cl"
      },
      "execution_count": 3,
      "outputs": []
    },
    {
      "cell_type": "code",
      "source": [
        "# Example similarity calculation (using cosine)\n",
        "similarity_matrix = cosine_similarity(customer_features_scaled_df)\n",
        "\n",
        "\n",
        "# Example recommendation function\n",
        "def get_top_n_similar_customers(customer_id, similarity_matrix, customer_features, n=3):\n",
        "    customer_idx = customer_features[customer_features['CustomerID'] == customer_id].index[0]\n",
        "    similarity_scores = list(enumerate(similarity_matrix[customer_idx]))\n",
        "    similarity_scores = sorted(similarity_scores, key=lambda x: x[1], reverse=True)\n",
        "    top_n = similarity_scores[1:n+1] # Skip the first one (self)\n",
        "    top_n_customer_ids_scores = [(customer_features.iloc[index]['CustomerID'], score) for index, score in top_n]\n",
        "    return top_n_customer_ids_scores\n",
        "\n",
        "\n",
        "# Applying function to the first 20 customers\n",
        "first_20_customer_ids = customers_df['CustomerID'].head(20).tolist()\n",
        "\n",
        "lookalike_results = {}\n",
        "for customer_id in first_20_customer_ids:\n",
        "    lookalike_results[customer_id] = get_top_n_similar_customers(customer_id, similarity_matrix, customer_features)\n",
        "\n",
        "print(lookalike_results)\n",
        "\n",
        "\n",
        "# Saving results to csv\n",
        "lookalike_df = pd.DataFrame([{'customer_id': key, 'top_3': value} for key, value in lookalike_results.items()])\n",
        "lookalike_df.to_csv(f\"Shadaab_Ahmad_Lookalike.csv\", index = False)"
      ],
      "metadata": {
        "colab": {
          "base_uri": "https://localhost:8080/"
        },
        "id": "T2r_l3xeBt2S",
        "outputId": "a5549750-0862-4ead-a909-138e4c080c43"
      },
      "execution_count": 5,
      "outputs": [
        {
          "output_type": "stream",
          "name": "stdout",
          "text": [
            "{'C0001': [('C0107', 0.9939105301727779), ('C0190', 0.9874462354968219), ('C0048', 0.9819447871475125)], 'C0002': [('C0128', 0.9582218408211354), ('C0178', 0.9490372318035443), ('C0159', 0.943437184028784)], 'C0003': [('C0052', 0.9935557287245262), ('C0133', 0.9915176693062463), ('C0152', 0.9755687282219333)], 'C0004': [('C0165', 0.9754508146434131), ('C0169', 0.9431381826064418), ('C0126', 0.9412248862272112)], 'C0005': [('C0186', 0.9850689770087325), ('C0146', 0.982210725812471), ('C0007', 0.9647570567298509)], 'C0006': [('C0171', 0.9774738149891585), ('C0187', 0.9732965563279247), ('C0011', 0.9013433119924877)], 'C0007': [('C0140', 0.9752007986943486), ('C0115', 0.9677506316549932), ('C0005', 0.9647570567298509)], 'C0008': [('C0024', 0.9321824011806099), ('C0194', 0.9310843951976049), ('C0122', 0.8642607232529241)], 'C0009': [('C0010', 0.9799081613805347), ('C0062', 0.9589824023928314), ('C0111', 0.9556037463576612)], 'C0010': [('C0111', 0.9888342878817848), ('C0009', 0.9799081613805347), ('C0062', 0.9796413199958647)], 'C0011': [('C0137', 0.989786740198957), ('C0126', 0.9739736239917544), ('C0169', 0.9738208343718745)], 'C0012': [('C0113', 0.9637532174113066), ('C0104', 0.9614192180541583), ('C0195', 0.9540079504579402)], 'C0013': [('C0099', 0.9888349822961969), ('C0108', 0.961297623657725), ('C0129', 0.6441721241674025)], 'C0014': [('C0060', 0.9806642763443887), ('C0119', 0.8771455812679881), ('C0086', 0.7949127449287314)], 'C0015': [('C0131', 0.9836010435262678), ('C0094', 0.9100818285379892), ('C0125', 0.8996798047462576)], 'C0016': [('C0183', 0.9704706596155358), ('C0026', 0.9535454475270455), ('C0072', 0.9349450974710651)], 'C0017': [('C0057', 0.9362489779268243), ('C0041', 0.9030963334451146), ('C0064', 0.8564087601721981)], 'C0018': [('C0125', 0.8977404495623659), ('C0131', 0.7461776167233335), ('C0139', 0.7042654445216706)], 'C0019': [('C0121', 0.9455494948483415), ('C0132', 0.8335516017917382), ('C0017', 0.8276415962908229)], 'C0020': [('C0050', 0.910634178733722), ('C0035', 0.8474988888604056), ('C0026', 0.8432786627125369)]}\n"
          ]
        }
      ]
    },
    {
      "cell_type": "code",
      "source": [],
      "metadata": {
        "id": "pj4uD8q8CBRx"
      },
      "execution_count": null,
      "outputs": []
    }
  ]
}